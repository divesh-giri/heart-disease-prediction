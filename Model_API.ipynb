{
 "cells": [
  {
   "cell_type": "code",
   "execution_count": 1,
   "id": "9a4fd96d",
   "metadata": {},
   "outputs": [],
   "source": [
    "import numpy as np\n",
    "import pandas as pd\n",
    "from flask import Flask, request, jsonify, render_template\n",
    "import pickle\n",
    "from sklearn.preprocessing import MinMaxScaler"
   ]
  },
  {
   "cell_type": "code",
   "execution_count": 2,
   "id": "fbb01848",
   "metadata": {},
   "outputs": [],
   "source": [
    "app = Flask(__name__)"
   ]
  },
  {
   "cell_type": "code",
   "execution_count": 3,
   "id": "01b62c82",
   "metadata": {},
   "outputs": [],
   "source": [
    "model = pickle.load(open('model.pkl', 'rb'))"
   ]
  },
  {
   "cell_type": "code",
   "execution_count": 4,
   "id": "f1251ee2",
   "metadata": {},
   "outputs": [],
   "source": [
    "\n",
    "@app.route('/')\n",
    "def home():\n",
    "    return render_template('index.html')\n",
    "\n",
    "@app.route('/predict',methods=['POST'])\n",
    "def predict():\n",
    "\n",
    "    parameters = ['sysBP','glucose','age','cigsPerDay','totChol','diaBP','prevalentHyp','male','BPMeds','diabetes','TenYearCHD']\n",
    "    feature = [float(x) for x in request.form.values()]\n",
    "    features = np.array(feature).reshape(1,-1)\n",
    "    \n",
    "    scaler = pickle.load(open('scaler_model.pkl', 'rb'))\n",
    "    \n",
    "    scaled_features = scaler.transform(features) \n",
    "    feature_df = pd.DataFrame(dict(zip(parameters, scaled_features.ravel())), index = [0])\n",
    "    prediction = model.predict(feature_df)\n",
    "    \n",
    "    \n",
    "    print(\"feature\", feature)\n",
    "    print(\"final features\",scaled_features)\n",
    "    print(\"prediction:\",prediction)\n",
    "    output = round(prediction[0], 2)\n",
    "    print(output)\n",
    "\n",
    "    if output == 0:\n",
    "        return render_template('index.html', prediction_text='THE PATIENT IS NOT LIKELY TO HAVE A HEART DISEASE')\n",
    "    else:\n",
    "         return render_template('index.html', prediction_text='THE PATIENT IS LIKELY TO HAVE A HEART DISEASE')\n",
    "        \n",
    "@app.route('/predict_api',methods=['POST'])\n",
    "def results():\n",
    "\n",
    "    data = request.get_json(force=True)\n",
    "    prediction = model.predict([np.array(list(data.values()))])\n",
    "\n",
    "    output = prediction[0]\n",
    "    return jsonify(output)"
   ]
  },
  {
   "cell_type": "code",
   "execution_count": 5,
   "id": "40be1d7a",
   "metadata": {},
   "outputs": [
    {
     "name": "stdout",
     "output_type": "stream",
     "text": [
      " * Serving Flask app \"__main__\" (lazy loading)\n",
      " * Environment: production\n",
      "   WARNING: This is a development server. Do not use it in a production deployment.\n",
      "   Use a production WSGI server instead.\n",
      " * Debug mode: off\n"
     ]
    },
    {
     "name": "stderr",
     "output_type": "stream",
     "text": [
      " * Running on http://127.0.0.1:5000/ (Press CTRL+C to quit)\n",
      "127.0.0.1 - - [10/Aug/2021 09:57:21] \"\u001b[37mGET / HTTP/1.1\u001b[0m\" 200 -\n",
      "127.0.0.1 - - [10/Aug/2021 09:57:21] \"\u001b[33mGET /static/style.css HTTP/1.1\u001b[0m\" 404 -\n",
      "127.0.0.1 - - [10/Aug/2021 09:57:21] \"\u001b[33mGET /static/style.css HTTP/1.1\u001b[0m\" 404 -\n",
      "127.0.0.1 - - [10/Aug/2021 09:57:29] \"\u001b[37mPOST /predict HTTP/1.1\u001b[0m\" 200 -\n",
      "127.0.0.1 - - [10/Aug/2021 09:57:29] \"\u001b[33mGET /static/style.css HTTP/1.1\u001b[0m\" 404 -\n"
     ]
    },
    {
     "name": "stdout",
     "output_type": "stream",
     "text": [
      "feature [10.0, 200.0, 80.0, 0.0, 120.0, 70.0, 0.0, 0.0, 0.0, 0.0]\n",
      "final features [[-0.44680851  0.4519774   1.30555556  0.         -0.01176471  0.23280423\n",
      "   0.          0.          0.          0.        ]]\n",
      "prediction: [0]\n",
      "0\n"
     ]
    },
    {
     "name": "stderr",
     "output_type": "stream",
     "text": [
      "127.0.0.1 - - [10/Aug/2021 09:58:36] \"\u001b[37mPOST /predict HTTP/1.1\u001b[0m\" 200 -\n",
      "127.0.0.1 - - [10/Aug/2021 09:58:36] \"\u001b[33mGET /static/style.css HTTP/1.1\u001b[0m\" 404 -\n"
     ]
    },
    {
     "name": "stdout",
     "output_type": "stream",
     "text": [
      "feature [185.0, 110.0, 62.0, 0.0, 276.0, 95.0, 1.0, 0.0, 0.0, 0.0]\n",
      "final features [[0.61702128 0.19774011 0.80555556 0.         0.44705882 0.4973545\n",
      "  1.         0.         0.         0.        ]]\n",
      "prediction: [1]\n",
      "1\n"
     ]
    }
   ],
   "source": [
    "if __name__ == \"__main__\":\n",
    "    app.run(debug=False)"
   ]
  }
 ],
 "metadata": {
  "kernelspec": {
   "display_name": "Python 3",
   "language": "python",
   "name": "python3"
  },
  "language_info": {
   "codemirror_mode": {
    "name": "ipython",
    "version": 3
   },
   "file_extension": ".py",
   "mimetype": "text/x-python",
   "name": "python",
   "nbconvert_exporter": "python",
   "pygments_lexer": "ipython3",
   "version": "3.8.8"
  }
 },
 "nbformat": 4,
 "nbformat_minor": 5
}
