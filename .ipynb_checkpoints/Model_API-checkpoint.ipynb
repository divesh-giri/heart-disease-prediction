{
 "cells": [
  {
   "cell_type": "code",
   "execution_count": 1,
   "id": "9a4fd96d",
   "metadata": {},
   "outputs": [],
   "source": [
    "import numpy as np\n",
    "import pandas as pd\n",
    "from flask import Flask, request, jsonify, render_template\n",
    "import pickle\n",
    "from sklearn.preprocessing import MinMaxScaler"
   ]
  },
  {
   "cell_type": "code",
   "execution_count": 2,
   "id": "fbb01848",
   "metadata": {},
   "outputs": [],
   "source": [
    "app = Flask(__name__)"
   ]
  },
  {
   "cell_type": "code",
   "execution_count": 3,
   "id": "01b62c82",
   "metadata": {},
   "outputs": [],
   "source": [
    "model = pickle.load(open('model.pkl', 'rb'))"
   ]
  },
  {
   "cell_type": "code",
   "execution_count": 4,
   "id": "f1251ee2",
   "metadata": {},
   "outputs": [],
   "source": [
    "\n",
    "@app.route('/')\n",
    "def home():\n",
    "    return render_template('index.html')\n",
    "\n",
    "@app.route('/predict',methods=['POST'])\n",
    "def predict():\n",
    "\n",
    "    parameters = ['sysBP','glucose','age','cigsPerDay','totChol','diaBP','prevalentHyp','male','BPMeds','diabetes','TenYearCHD']\n",
    "    features = [int(x) for x in request.form.values()]\n",
    "    features = np.array(features)\n",
    "    features = features.reshape((1,10))\n",
    "    #data = dict(zip(parameters, features))\n",
    "    #features_df = pd.DataFrame(data, index=[0])\n",
    "    scaler = MinMaxScaler()\n",
    "    \n",
    "    scaled_features = scaler.fit_transform(features)  \n",
    "    prediction = model.predict(scaled_features)\n",
    "    \n",
    "    print(\"final features\",scaled_features)\n",
    "    print(\"prediction:\",prediction)\n",
    "    output = round(prediction[0], 2)\n",
    "    print(output)\n",
    "\n",
    "    if output == 0:\n",
    "        return render_template('index.html', prediction_text='THE PATIENT IS NOT LIKELY TO HAVE A HEART DISEASE')\n",
    "    else:\n",
    "         return render_template('index.html', prediction_text='THE PATIENT IS LIKELY TO HAVE A HEART DISEASE')\n",
    "        \n",
    "@app.route('/predict_api',methods=['POST'])\n",
    "def results():\n",
    "\n",
    "    data = request.get_json(force=True)\n",
    "    prediction = model.predict([np.array(list(data.values()))])\n",
    "\n",
    "    output = prediction[0]\n",
    "    return jsonify(output)"
   ]
  },
  {
   "cell_type": "code",
   "execution_count": null,
   "id": "40be1d7a",
   "metadata": {},
   "outputs": [
    {
     "name": "stdout",
     "output_type": "stream",
     "text": [
      " * Serving Flask app \"__main__\" (lazy loading)\n",
      " * Environment: production\n",
      "   WARNING: This is a development server. Do not use it in a production deployment.\n",
      "   Use a production WSGI server instead.\n",
      " * Debug mode: off\n"
     ]
    },
    {
     "name": "stderr",
     "output_type": "stream",
     "text": [
      " * Running on http://127.0.0.1:5000/ (Press CTRL+C to quit)\n",
      "[2021-08-09 01:08:51,266] ERROR in app: Exception on /predict [POST]\n",
      "Traceback (most recent call last):\n",
      "  File \"C:\\Users\\dives\\anaconda3\\lib\\site-packages\\flask\\app.py\", line 2447, in wsgi_app\n",
      "    response = self.full_dispatch_request()\n",
      "  File \"C:\\Users\\dives\\anaconda3\\lib\\site-packages\\flask\\app.py\", line 1952, in full_dispatch_request\n",
      "    rv = self.handle_user_exception(e)\n",
      "  File \"C:\\Users\\dives\\anaconda3\\lib\\site-packages\\flask\\app.py\", line 1821, in handle_user_exception\n",
      "    reraise(exc_type, exc_value, tb)\n",
      "  File \"C:\\Users\\dives\\anaconda3\\lib\\site-packages\\flask\\_compat.py\", line 39, in reraise\n",
      "    raise value\n",
      "  File \"C:\\Users\\dives\\anaconda3\\lib\\site-packages\\flask\\app.py\", line 1950, in full_dispatch_request\n",
      "    rv = self.dispatch_request()\n",
      "  File \"C:\\Users\\dives\\anaconda3\\lib\\site-packages\\flask\\app.py\", line 1936, in dispatch_request\n",
      "    return self.view_functions[rule.endpoint](**req.view_args)\n",
      "  File \"<ipython-input-4-35d609623ca3>\", line 17, in predict\n",
      "    prediction = model.predict(scaled_features)\n",
      "  File \"C:\\Users\\dives\\anaconda3\\lib\\site-packages\\sklearn\\ensemble\\_forest.py\", line 630, in predict\n",
      "    proba = self.predict_proba(X)\n",
      "  File \"C:\\Users\\dives\\anaconda3\\lib\\site-packages\\sklearn\\ensemble\\_forest.py\", line 674, in predict_proba\n",
      "    X = self._validate_X_predict(X)\n",
      "  File \"C:\\Users\\dives\\anaconda3\\lib\\site-packages\\sklearn\\ensemble\\_forest.py\", line 422, in _validate_X_predict\n",
      "    return self.estimators_[0]._validate_X_predict(X, check_input=True)\n",
      "  File \"C:\\Users\\dives\\anaconda3\\lib\\site-packages\\sklearn\\tree\\_classes.py\", line 402, in _validate_X_predict\n",
      "    X = self._validate_data(X, dtype=DTYPE, accept_sparse=\"csr\",\n",
      "  File \"C:\\Users\\dives\\anaconda3\\lib\\site-packages\\sklearn\\base.py\", line 437, in _validate_data\n",
      "    self._check_n_features(X, reset=reset)\n",
      "  File \"C:\\Users\\dives\\anaconda3\\lib\\site-packages\\sklearn\\base.py\", line 365, in _check_n_features\n",
      "    raise ValueError(\n",
      "ValueError: X has 1 features, but DecisionTreeClassifier is expecting 10 features as input.\n",
      "127.0.0.1 - - [09/Aug/2021 01:08:51] \"\u001b[35m\u001b[1mPOST /predict HTTP/1.1\u001b[0m\" 500 -\n"
     ]
    }
   ],
   "source": [
    "if __name__ == \"__main__\":\n",
    "    app.run(debug=False)"
   ]
  },
  {
   "cell_type": "code",
   "execution_count": null,
   "id": "7d0b93e3",
   "metadata": {},
   "outputs": [],
   "source": []
  }
 ],
 "metadata": {
  "kernelspec": {
   "display_name": "Python 3",
   "language": "python",
   "name": "python3"
  },
  "language_info": {
   "codemirror_mode": {
    "name": "ipython",
    "version": 3
   },
   "file_extension": ".py",
   "mimetype": "text/x-python",
   "name": "python",
   "nbconvert_exporter": "python",
   "pygments_lexer": "ipython3",
   "version": "3.8.8"
  }
 },
 "nbformat": 4,
 "nbformat_minor": 5
}
